{
 "cells": [
  {
   "cell_type": "markdown",
   "id": "c65807ac-7b4d-4a18-b988-17d6dc7b8ff8",
   "metadata": {},
   "source": [
    "## <span style = \"color:brown\"><span style = \"font-family: Times New Roman\"><p style=\"text-align: center\"> Training and testing your Model</span>"
   ]
  },
  {
   "cell_type": "code",
   "execution_count": 19,
   "id": "8142e318-ab2a-4ec4-9227-61492fb2dc95",
   "metadata": {},
   "outputs": [],
   "source": [
    "import nbimporter\n",
    "import os\n",
    "import glob\n",
    "import pandas as pd\n",
    "import Event_Planner_RAG\n",
    "from langchain.schema import Document\n",
    "from langchain_chroma import Chroma\n",
    "from langchain_huggingface import HuggingFaceEmbeddings"
   ]
  },
  {
   "cell_type": "code",
   "execution_count": 20,
   "id": "83f09761-12c9-4910-98e7-b30037da765e",
   "metadata": {},
   "outputs": [
    {
     "name": "stdout",
     "output_type": "stream",
     "text": [
      "Loaded existing vectorstore.\n"
     ]
    }
   ],
   "source": [
    "# Define database directory\n",
    "DB_NAME = \"vector_db\"\n",
    "\n",
    "# Initialize or Load Vectorstore\n",
    "if not os.path.exists(DB_NAME):\n",
    "    print(\"⚠️ Vectorstore does not exist. Creating a new one...\")\n",
    "    vectorstore = Chroma(persist_directory=DB_NAME, embedding_function=embeddings)\n",
    "else:\n",
    "    vectorstore = Chroma(persist_directory=DB_NAME, embedding_function=embeddings)\n",
    "    print(\"Loaded existing vectorstore.\")"
   ]
  },
  {
   "cell_type": "code",
   "execution_count": 21,
   "id": "38d620bc-4054-4953-b8f5-964618bb3f45",
   "metadata": {},
   "outputs": [],
   "source": [
    "training_data = [\n",
    "    {\"question\": \"How do I plan a wedding on a budget?\", \"answer\": \"Prioritize key expenses, negotiate with vendors, and consider off-season discounts.\"},\n",
    "    {\"question\": \"What are some creative corporate event ideas?\", \"answer\": \"Try themed networking events, team-building retreats, or virtual hybrid experiences.\"},\n",
    "    {\"question\": \"How do I choose the right catering service?\", \"answer\": \"Consider dietary restrictions, sample menus, and read past customer reviews.\"},\n",
    "    {\"question\": \"What factors should I consider when selecting a venue?\", \"answer\": \"Capacity, location, parking, amenities, and ambiance play key roles.\"},\n",
    "    {\"question\": \"How can I make my event more sustainable?\", \"answer\": \"Use eco-friendly decor, digital invitations, and partner with green vendors.\"},\n",
    "    {\"question\": \"What is today's date?\", \"answer\": \"21st February 2025\"},\n",
    "    {\"question\": \"when was the last wedding?\", \"answer\": \"The last wedding is scheduled for 2025-02-25, which is for Amelia Young and Jack Adams.\"}\n",
    "]"
   ]
  },
  {
   "cell_type": "code",
   "execution_count": 22,
   "id": "71aba70d-267a-4bb1-9736-12f314c069ea",
   "metadata": {},
   "outputs": [
    {
     "name": "stdout",
     "output_type": "stream",
     "text": [
      "Adding new training data to vectorstore...\n",
      "Training Complete! 7 new Q&A pairs added.\n",
      "Vectorstore saved successfully.\n"
     ]
    }
   ],
   "source": [
    "# Convert Q&A Pairs into LangChain Documents\n",
    "\n",
    "documents = [\n",
    "    Document(page_content=item[\"question\"] + \" \" + item[\"answer\"], metadata={\"source\": \"training\"})\n",
    "    for item in training_data\n",
    "]\n",
    "\n",
    "# Generate Embeddings & Store in Vector Database\n",
    "print(\"Adding new training data to vectorstore...\")\n",
    "vectorstore.add_documents(documents)\n",
    "print(f\"Training Complete! {len(training_data)} new Q&A pairs added.\")\n",
    "\n",
    "# Save Updates to ChromaDB\n",
    "vectorstore.persist_directory = DB_NAME \n",
    "\n",
    "print(\"Vectorstore saved successfully.\")"
   ]
  },
  {
   "cell_type": "code",
   "execution_count": 23,
   "id": "7d23c633-316e-4d41-9625-c618cb02306e",
   "metadata": {},
   "outputs": [
    {
     "name": "stdout",
     "output_type": "stream",
     "text": [
      "✅ Vectorstore contains 36 documents.\n"
     ]
    }
   ],
   "source": [
    "if vectorstore._collection.count() == 0:\n",
    "    print(\"⚠️ No documents found in the collection. Adding training data...\")\n",
    "    vectorstore = Chroma.from_documents(documents, embedding=embeddings, persist_directory=DB_NAME)\n",
    "else:\n",
    "    print(f\"✅ Vectorstore contains {vectorstore._collection.count()} documents.\")"
   ]
  },
  {
   "cell_type": "code",
   "execution_count": 24,
   "id": "0940de7d-c042-4e6a-905d-9e95b585f9d6",
   "metadata": {},
   "outputs": [
    {
     "name": "stdout",
     "output_type": "stream",
     "text": [
      "\n",
      "🤖 Q: How do I pick a venue for my event?\n",
      "💡 A: When selecting a venue for your event, consider the following factors: capacity, location, parking, amenities, and ambiance.\n",
      "\n",
      "🤖 Q: What are some low-cost wedding planning tips?\n",
      "💡 A: Prioritize key expenses, negotiate with vendors, and consider off-season discounts.\n",
      "\n",
      "🤖 Q: How do I ensure my event is environmentally friendly?\n",
      "💡 A: Use eco-friendly decor, digital invitations, and partner with green vendors.\n",
      "Rerunning server... use `close()` to stop if you need to change `launch()` parameters.\n",
      "----\n",
      "\n",
      "To create a public link, set `share=True` in `launch()`.\n"
     ]
    },
    {
     "data": {
      "text/html": [
       "<div><iframe src=\"http://localhost:7861/\" width=\"100%\" height=\"500\" allow=\"autoplay; camera; microphone; clipboard-read; clipboard-write;\" frameborder=\"0\" allowfullscreen></iframe></div>"
      ],
      "text/plain": [
       "<IPython.core.display.HTML object>"
      ]
     },
     "metadata": {},
     "output_type": "display_data"
    }
   ],
   "source": [
    "def test_model():\n",
    "    #from rag_app import conversation_chain  # Import the chatbot pipeline\n",
    "\n",
    "    test_questions = [\n",
    "        \"How do I pick a venue for my event?\",\n",
    "        \"What are some low-cost wedding planning tips?\",\n",
    "        \"How do I ensure my event is environmentally friendly?\"\n",
    "    ]\n",
    "\n",
    "    for question in test_questions:\n",
    "        response = conversation_chain.invoke({\"question\": question})\n",
    "        print(f\"\\n🤖 Q: {question}\\n💡 A: {response['answer']}\")\n",
    "\n",
    "if __name__ == \"__main__\":\n",
    "    test_model()\n",
    "    launch_chatbot()\n"
   ]
  },
  {
   "cell_type": "code",
   "execution_count": null,
   "id": "b290b8e8-94bc-4026-969e-e34056ab8131",
   "metadata": {},
   "outputs": [],
   "source": []
  }
 ],
 "metadata": {
  "kernelspec": {
   "display_name": "Python 3 (ipykernel)",
   "language": "python",
   "name": "python3"
  },
  "language_info": {
   "codemirror_mode": {
    "name": "ipython",
    "version": 3
   },
   "file_extension": ".py",
   "mimetype": "text/x-python",
   "name": "python",
   "nbconvert_exporter": "python",
   "pygments_lexer": "ipython3",
   "version": "3.11.11"
  }
 },
 "nbformat": 4,
 "nbformat_minor": 5
}
